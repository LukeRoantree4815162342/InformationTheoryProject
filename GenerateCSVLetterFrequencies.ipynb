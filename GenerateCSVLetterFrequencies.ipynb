{
 "cells": [
  {
   "cell_type": "code",
   "execution_count": 1,
   "metadata": {},
   "outputs": [],
   "source": [
    "import requests as re\n",
    "# requests is a library to make HTTP requests\n",
    "from bs4 import BeautifulSoup\n",
    "# beautiful soup is a library for parsing html \n",
    "import pandas as pd\n",
    "# panadas provides an R-like DataFrame object, ideal for working with tabular data\n",
    "import string\n",
    "# string provides us with a list of ascii lowercase letters (the english alphabet)"
   ]
  },
  {
   "cell_type": "code",
   "execution_count": 2,
   "metadata": {},
   "outputs": [],
   "source": [
    "\"\"\"\n",
    "First, we make a HTTP GET request to the wikipedia page, and extract its text (html)\n",
    "We then point beautiful soup at our html, and get it ready for parsing\n",
    "\"\"\"\n",
    "\n",
    "page = re.get('https://en.wikipedia.org/wiki/Letter_frequency').text\n",
    "soup = BeautifulSoup(page, 'lxml')"
   ]
  },
  {
   "cell_type": "code",
   "execution_count": 3,
   "metadata": {},
   "outputs": [],
   "source": [
    "\"\"\"\n",
    "The table we want on the wikipedia page has a class of 'wikitable sortable'\n",
    "(found via inspect element in a browser)\n",
    "So we tell our parser to look for everything with that class.\n",
    "\"\"\"\n",
    "\n",
    "table = soup.findAll('table',{'class':'wikitable sortable'})\n",
    "# note: from inspection, the 3rd table with this class is the one we want; hence using table[2] later"
   ]
  },
  {
   "cell_type": "code",
   "execution_count": 4,
   "metadata": {},
   "outputs": [],
   "source": [
    "\"\"\"\n",
    "Having obtained the html of the table we want, we now convert it to a pandas dataframe;\n",
    "\"\"\"\n",
    "\n",
    "df = pd.read_html(str(table[2]), header=0)[0]\n",
    "# note: we take the first element of pd.read_html() as it returns a *list* of dataframes\n",
    "\n",
    "df.columns = [i.split()[0] for i in df.columns]\n",
    "# note: this is to remove the citations in some column names\n",
    "\n",
    "annoying_symbols = '%~()*'\n",
    "# some entries contain tildes, asterisks, or brackets, and almost all end in '%'\n",
    "# we need to get rid of these to be able to interpret the entries as numerical types\n",
    "\n",
    "for col in df.columns[1:]:\n",
    "    for s in annoying_symbols:\n",
    "        df[col] = df[col].str.replace(s,'')\n",
    "    df[col] = df[col].astype('float')/100"
   ]
  },
  {
   "cell_type": "code",
   "execution_count": 5,
   "metadata": {},
   "outputs": [],
   "source": [
    "\"\"\"\n",
    "Finally, we drop any rows corresponding to letters outside the english alphabet and then normalise the probabilities\n",
    "such that each column adds up to 1. \n",
    "See report for implications of this re-normalisation.\n",
    "\"\"\"\n",
    "\n",
    "df = df.loc[df['Letter'].isin(list(string.ascii_lowercase))]\n",
    "for col in df.columns[1:]:\n",
    "    df[col] = df[col]/(df[col].sum())"
   ]
  },
  {
   "cell_type": "code",
   "execution_count": 6,
   "metadata": {},
   "outputs": [],
   "source": [
    "\"\"\"\n",
    "Having cleaned the data, we save it to a .csv file to be used in future\n",
    "\"\"\"\n",
    "\n",
    "df.to_csv('LetterFrequenciesFromWiki.csv')"
   ]
  },
  {
   "cell_type": "code",
   "execution_count": 12,
   "metadata": {},
   "outputs": [
    {
     "name": "stdout",
     "output_type": "stream",
     "text": [
      "\\begin{tabular}{lrrrr}\n",
      "\\toprule\n",
      "Letter &   English &    French &   Italian &    German \\\\\n",
      "\\midrule\n",
      "     a &  0.081671 &  0.078537 &  0.118743 &  0.066708 \\\\\n",
      "     b &  0.014920 &  0.009267 &  0.009372 &  0.019308 \\\\\n",
      "     c &  0.027820 &  0.033529 &  0.045506 &  0.027969 \\\\\n",
      "     d &  0.042530 &  0.037736 &  0.037771 &  0.051966 \\\\\n",
      "     e &  0.127021 &  0.151345 &  0.119218 &  0.167856 \\\\\n",
      "     f &  0.022280 &  0.010964 &  0.011657 &  0.016953 \\\\\n",
      "     g &  0.020150 &  0.008907 &  0.016621 &  0.030805 \\\\\n",
      "     h &  0.060941 &  0.007580 &  0.006430 &  0.046858 \\\\\n",
      "     i &  0.069661 &  0.077437 &  0.102547 &  0.067056 \\\\\n",
      "     j &  0.001530 &  0.006305 &  0.000111 &  0.002744 \\\\\n",
      "     k &  0.007720 &  0.000761 &  0.000091 &  0.014507 \\\\\n",
      "     l &  0.040250 &  0.056116 &  0.065817 &  0.035187 \\\\\n",
      "     m &  0.024060 &  0.030526 &  0.025397 &  0.025942 \\\\\n",
      "     n &  0.067491 &  0.072973 &  0.069588 &  0.100083 \\\\\n",
      "     o &  0.075071 &  0.059612 &  0.099402 &  0.026556 \\\\\n",
      "     p &  0.019290 &  0.025929 &  0.030896 &  0.006859 \\\\\n",
      "     q &  0.000950 &  0.014008 &  0.005106 &  0.000184 \\\\\n",
      "     r &  0.059871 &  0.068838 &  0.064371 &  0.071694 \\\\\n",
      "     s &  0.063271 &  0.081746 &  0.050358 &  0.074427 \\\\\n",
      "     t &  0.090561 &  0.074505 &  0.056849 &  0.063002 \\\\\n",
      "     u &  0.027580 &  0.064909 &  0.030442 &  0.042650 \\\\\n",
      "     v &  0.009780 &  0.018904 &  0.021201 &  0.008661 \\\\\n",
      "     w &  0.023600 &  0.000504 &  0.000334 &  0.019666 \\\\\n",
      "     x &  0.001500 &  0.004392 &  0.000030 &  0.000348 \\\\\n",
      "     y &  0.019740 &  0.001316 &  0.000202 &  0.000399 \\\\\n",
      "     z &  0.000740 &  0.003353 &  0.011940 &  0.011609 \\\\\n",
      "\\bottomrule\n",
      "\\end{tabular}\n",
      "\n"
     ]
    }
   ],
   "source": [
    "print(df.to_latex(index=False, columns=['Letter','English','French','Italian','German']))"
   ]
  },
  {
   "cell_type": "code",
   "execution_count": null,
   "metadata": {},
   "outputs": [],
   "source": []
  }
 ],
 "metadata": {
  "kernelspec": {
   "display_name": "Python 3",
   "language": "python",
   "name": "python3"
  },
  "language_info": {
   "codemirror_mode": {
    "name": "ipython",
    "version": 3
   },
   "file_extension": ".py",
   "mimetype": "text/x-python",
   "name": "python",
   "nbconvert_exporter": "python",
   "pygments_lexer": "ipython3",
   "version": "3.6.5"
  }
 },
 "nbformat": 4,
 "nbformat_minor": 2
}
